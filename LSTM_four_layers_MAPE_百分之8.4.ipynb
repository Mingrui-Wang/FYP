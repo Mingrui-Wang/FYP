{
  "nbformat": 4,
  "nbformat_minor": 0,
  "metadata": {
    "colab": {
      "name": "LSTM_four_layers_MAPE_百分之7",
      "provenance": [],
      "collapsed_sections": [],
      "authorship_tag": "ABX9TyPx+QJ8nzMjOxdcGWljLlXI",
      "include_colab_link": true
    },
    "kernelspec": {
      "name": "python3",
      "display_name": "Python 3"
    },
    "accelerator": "GPU"
  },
  "cells": [
    {
      "cell_type": "markdown",
      "metadata": {
        "id": "view-in-github",
        "colab_type": "text"
      },
      "source": [
        "<a href=\"https://colab.research.google.com/github/Mingrui-Wang/FYP/blob/master/LSTM_four_layers_MAPE_%E7%99%BE%E5%88%86%E4%B9%8B8.4.ipynb\" target=\"_parent\"><img src=\"https://colab.research.google.com/assets/colab-badge.svg\" alt=\"Open In Colab\"/></a>"
      ]
    },
    {
      "cell_type": "code",
      "metadata": {
        "id": "9sx8fa0FG5zz",
        "outputId": "7ed30e5f-2315-45f4-eb43-debcf8820690",
        "colab": {
          "base_uri": "https://localhost:8080/",
          "height": 52
        }
      },
      "source": [
        "import os\n",
        "from google.colab import drive\n",
        "drive.mount('/content/drive')\n",
        "\n",
        "path = \"/content/drive/My Drive/FYP数据集/\"\n",
        "os.chdir(path)\n",
        "os.listdir(path)"
      ],
      "execution_count": 43,
      "outputs": [
        {
          "output_type": "stream",
          "text": [
            "Drive already mounted at /content/drive; to attempt to forcibly remount, call drive.mount(\"/content/drive\", force_remount=True).\n"
          ],
          "name": "stdout"
        },
        {
          "output_type": "execute_result",
          "data": {
            "text/plain": [
              "['Line_100_day.csv', 'Line_100_day_winsorize.csv']"
            ]
          },
          "metadata": {
            "tags": []
          },
          "execution_count": 43
        }
      ]
    },
    {
      "cell_type": "code",
      "metadata": {
        "id": "jqBr5ZNRGMGh"
      },
      "source": [
        "import numpy\n",
        "import matplotlib.pyplot as plt\n",
        "from pandas import read_csv\n",
        "import math\n",
        "from keras.models import Sequential\n",
        "from keras.layers import Dense\n",
        "from keras.layers import LSTM\n",
        "from keras.layers import Dropout\n",
        "from keras.layers import RepeatVector\n",
        "from keras.layers import TimeDistributed\n",
        "from sklearn.preprocessing import MinMaxScaler\n",
        "from sklearn.metrics import mean_squared_error\n",
        "%matplotlib inline"
      ],
      "execution_count": 44,
      "outputs": []
    },
    {
      "cell_type": "code",
      "metadata": {
        "id": "C35h7eekGZBQ",
        "outputId": "6a23137d-336b-4fda-8f5b-29f58e51dadb",
        "colab": {
          "base_uri": "https://localhost:8080/",
          "height": 267
        }
      },
      "source": [
        "# load the dataset\n",
        "dataframe = read_csv('Line_100_day_winsorize.csv', usecols=[1], engine='python', skipfooter=3)\n",
        "dataset = dataframe.values\n",
        "# 将整型变为float\n",
        "dataset = dataset.astype('float32')\n",
        "\n",
        "plt.plot(dataset)\n",
        "plt.show()"
      ],
      "execution_count": 45,
      "outputs": [
        {
          "output_type": "display_data",
          "data": {
            "image/png": "[encoded data removed]",
            "text/plain": [
              "<Figure size 432x288 with 1 Axes>"
            ]
          },
          "metadata": {
            "tags": [],
            "needs_background": "light"
          }
        }
      ]
    },
    {
      "cell_type": "code",
      "metadata": {
        "id": "kTX1nSSoHpIN"
      },
      "source": [
        "# X is the number of passengers at a given time (t) and Y is the number of passengers at the next time (t + 1).\n",
        "\n",
        "# convert an array of values into a dataset matrix\n",
        "def create_dataset(dataset, look_back=1):\n",
        "    dataX, dataY = [], []\n",
        "    for i in range(len(dataset)-look_back-1):\n",
        "        a = dataset[i:(i+look_back), 0]\n",
        "        dataX.append(a)\n",
        "        dataY.append(dataset[i + look_back, 0])\n",
        "    return numpy.array(dataX), numpy.array(dataY)\n",
        "\n",
        "# fix random seed for reproducibility\n",
        "numpy.random.seed(7)"
      ],
      "execution_count": 46,
      "outputs": []
    },
    {
      "cell_type": "code",
      "metadata": {
        "id": "KVIh4Yr-INhM"
      },
      "source": [
        "# normalize the dataset\n",
        "scaler = MinMaxScaler(feature_range=(0, 1))\n",
        "dataset = scaler.fit_transform(dataset)\n",
        "\n",
        "\n",
        "# split into train and test sets\n",
        "train_size = int(len(dataset) * 0.9)\n",
        "test_size = len(dataset) - train_size\n",
        "train, test = dataset[0:train_size,:], dataset[train_size:len(dataset),:]"
      ],
      "execution_count": 47,
      "outputs": []
    },
    {
      "cell_type": "code",
      "metadata": {
        "id": "c1lD2ZTFIc90"
      },
      "source": [
        "# use this function to prepare the train and test datasets for modeling\n",
        "look_back = 8\n",
        "trainX, trainY = create_dataset(train, look_back)\n",
        "testX, testY = create_dataset(test, look_back)"
      ],
      "execution_count": 48,
      "outputs": []
    },
    {
      "cell_type": "code",
      "metadata": {
        "id": "ZVEB7ABhIiig"
      },
      "source": [
        "# reshape input to be [samples, time steps, features]\n",
        "trainX = numpy.reshape(trainX, (trainX.shape[0], 1, trainX.shape[1]))\n",
        "testX = numpy.reshape(testX, (testX.shape[0], 1, testX.shape[1]))"
      ],
      "execution_count": 49,
      "outputs": []
    },
    {
      "cell_type": "code",
      "metadata": {
        "id": "u5mZfrDWInjH",
        "outputId": "e87bbb19-7cda-4b4f-b9dc-1217bc0d4517",
        "colab": {
          "base_uri": "https://localhost:8080/",
          "height": 1000
        }
      },
      "source": [
        "from keras.models import Sequential\n",
        "from keras.layers import Dense, Dropout,BatchNormalization\n",
        "from keras.layers import LSTM\n",
        "import pandas as pd\n",
        "import numpy as np \n",
        "import matplotlib.pyplot as plt\n",
        "import time\n",
        "from keras import regularizers\n",
        "# create and fit the LSTM network\n",
        "model = Sequential()\n",
        "model.add(LSTM(128, activation='relu', return_sequences=True, input_shape=(1, look_back)))\n",
        "model.add(BatchNormalization())\n",
        "model.add(LSTM(64, activation='relu',return_sequences=True))  # 返回维度为 64 的向量序列\n",
        "model.add(LSTM(64,activation='tanh'))  # 返回维度为 64 的单个向量\n",
        "\n",
        "model.add(Dense(1,activation='linear',kernel_regularizer=regularizers.l2(0.001)))\n",
        "\n",
        "#early_stopping = EarlyStopping(monitor='val_loss',\n",
        "#                                min_delta=0,\n",
        "#                                patience=5,\n",
        "#                                verbose=1,\n",
        "#                                mode='auto')\n",
        "\n",
        "model.compile(loss='mean_squared_error', optimizer='adam')\n",
        "model.fit(trainX, trainY, epochs=200, batch_size=8, validation_data=(testX, testY))"
      ],
      "execution_count": 50,
      "outputs": [
        {
          "output_type": "stream",
          "text": [
            "WARNING:tensorflow:Layer lstm_9 will not use cuDNN kernel since it doesn't meet the cuDNN kernel criteria. It will use generic GPU kernel as fallback when running on GPU\n",
            "WARNING:tensorflow:Layer lstm_10 will not use cuDNN kernel since it doesn't meet the cuDNN kernel criteria. It will use generic GPU kernel as fallback when running on GPU\n",
            "Epoch 1/200\n",
            "44/44 [==============================] - 1s 17ms/step - loss: 0.0453 - val_loss: 0.1328\n",
            "Epoch 2/200\n",
            "44/44 [==============================] - 0s 5ms/step - loss: 0.0105 - val_loss: 0.1083\n",
            "Epoch 3/200\n",
            "44/44 [==============================] - 0s 5ms/step - loss: 0.0090 - val_loss: 0.0999\n",
            "Epoch 4/200\n",
            "44/44 [==============================] - 0s 5ms/step - loss: 0.0085 - val_loss: 0.1008\n",
            "Epoch 5/200\n",
            "44/44 [==============================] - 0s 5ms/step - loss: 0.0089 - val_loss: 0.0904\n",
            "Epoch 6/200\n",
            "44/44 [==============================] - 0s 5ms/step - loss: 0.0081 - val_loss: 0.0972\n",
            "Epoch 7/200\n",
            "44/44 [==============================] - 0s 5ms/step - loss: 0.0083 - val_loss: 0.0975\n",
            "Epoch 8/200\n",
            "44/44 [==============================] - 0s 5ms/step - loss: 0.0079 - val_loss: 0.0986\n",
            "Epoch 9/200\n",
            "44/44 [==============================] - 0s 5ms/step - loss: 0.0076 - val_loss: 0.0847\n",
            "Epoch 10/200\n",
            "44/44 [==============================] - 0s 5ms/step - loss: 0.0072 - val_loss: 0.0825\n",
            "Epoch 11/200\n",
            "44/44 [==============================] - 0s 5ms/step - loss: 0.0070 - val_loss: 0.0831\n",
            "Epoch 12/200\n",
            "44/44 [==============================] - 0s 5ms/step - loss: 0.0075 - val_loss: 0.0496\n",
            "Epoch 13/200\n",
            "44/44 [==============================] - 0s 5ms/step - loss: 0.0073 - val_loss: 0.0638\n",
            "Epoch 14/200\n",
            "44/44 [==============================] - 0s 5ms/step - loss: 0.0063 - val_loss: 0.0500\n",
            "Epoch 15/200\n",
            "44/44 [==============================] - 0s 5ms/step - loss: 0.0074 - val_loss: 0.0579\n",
            "Epoch 16/200\n",
            "44/44 [==============================] - 0s 5ms/step - loss: 0.0065 - val_loss: 0.0390\n",
            "Epoch 17/200\n",
            "44/44 [==============================] - 0s 5ms/step - loss: 0.0068 - val_loss: 0.0410\n",
            "Epoch 18/200\n",
            "44/44 [==============================] - 0s 5ms/step - loss: 0.0065 - val_loss: 0.0322\n",
            "Epoch 19/200\n",
            "44/44 [==============================] - 0s 5ms/step - loss: 0.0070 - val_loss: 0.0322\n",
            "Epoch 20/200\n",
            "44/44 [==============================] - 0s 5ms/step - loss: 0.0065 - val_loss: 0.0399\n",
            "Epoch 21/200\n",
            "44/44 [==============================] - 0s 5ms/step - loss: 0.0057 - val_loss: 0.0422\n",
            "Epoch 22/200\n",
            "44/44 [==============================] - 0s 5ms/step - loss: 0.0065 - val_loss: 0.0254\n",
            "Epoch 23/200\n",
            "44/44 [==============================] - 0s 5ms/step - loss: 0.0061 - val_loss: 0.0396\n",
            "Epoch 24/200\n",
            "44/44 [==============================] - 0s 5ms/step - loss: 0.0059 - val_loss: 0.0288\n",
            "Epoch 25/200\n",
            "44/44 [==============================] - 0s 5ms/step - loss: 0.0056 - val_loss: 0.0312\n",
            "Epoch 26/200\n",
            "44/44 [==============================] - 0s 5ms/step - loss: 0.0055 - val_loss: 0.0395\n",
            "Epoch 27/200\n",
            "44/44 [==============================] - 0s 5ms/step - loss: 0.0065 - val_loss: 0.0258\n",
            "Epoch 28/200\n",
            "44/44 [==============================] - 0s 5ms/step - loss: 0.0062 - val_loss: 0.0379\n",
            "Epoch 29/200\n",
            "44/44 [==============================] - 0s 5ms/step - loss: 0.0065 - val_loss: 0.0305\n",
            "Epoch 30/200\n",
            "44/44 [==============================] - 0s 5ms/step - loss: 0.0058 - val_loss: 0.0278\n",
            "Epoch 31/200\n",
            "44/44 [==============================] - 0s 5ms/step - loss: 0.0053 - val_loss: 0.0314\n",
            "Epoch 32/200\n",
            "44/44 [==============================] - 0s 5ms/step - loss: 0.0051 - val_loss: 0.0256\n",
            "Epoch 33/200\n",
            "44/44 [==============================] - 0s 5ms/step - loss: 0.0055 - val_loss: 0.0274\n",
            "Epoch 34/200\n",
            "44/44 [==============================] - 0s 5ms/step - loss: 0.0057 - val_loss: 0.0275\n",
            "Epoch 35/200\n",
            "44/44 [==============================] - 0s 5ms/step - loss: 0.0053 - val_loss: 0.0277\n",
            "Epoch 36/200\n",
            "44/44 [==============================] - 0s 5ms/step - loss: 0.0053 - val_loss: 0.0482\n",
            "Epoch 37/200\n",
            "44/44 [==============================] - 0s 5ms/step - loss: 0.0057 - val_loss: 0.0327\n",
            "Epoch 38/200\n",
            "44/44 [==============================] - 0s 5ms/step - loss: 0.0052 - val_loss: 0.0278\n",
            "Epoch 39/200\n",
            "44/44 [==============================] - 0s 5ms/step - loss: 0.0054 - val_loss: 0.0313\n",
            "Epoch 40/200\n",
            "44/44 [==============================] - 0s 5ms/step - loss: 0.0053 - val_loss: 0.0289\n",
            "Epoch 41/200\n",
            "44/44 [==============================] - 0s 5ms/step - loss: 0.0047 - val_loss: 0.0321\n",
            "Epoch 42/200\n",
            "44/44 [==============================] - 0s 5ms/step - loss: 0.0047 - val_loss: 0.0308\n",
            "Epoch 43/200\n",
            "44/44 [==============================] - 0s 5ms/step - loss: 0.0049 - val_loss: 0.0394\n",
            "Epoch 44/200\n",
            "44/44 [==============================] - 0s 5ms/step - loss: 0.0054 - val_loss: 0.0311\n",
            "Epoch 45/200\n",
            "44/44 [==============================] - 0s 5ms/step - loss: 0.0048 - val_loss: 0.0332\n",
            "Epoch 46/200\n",
            "44/44 [==============================] - 0s 5ms/step - loss: 0.0049 - val_loss: 0.0264\n",
            "Epoch 47/200\n",
            "44/44 [==============================] - 0s 5ms/step - loss: 0.0047 - val_loss: 0.0273\n",
            "Epoch 48/200\n",
            "44/44 [==============================] - 0s 5ms/step - loss: 0.0050 - val_loss: 0.0355\n",
            "Epoch 49/200\n",
            "44/44 [==============================] - 0s 5ms/step - loss: 0.0048 - val_loss: 0.0329\n",
            "Epoch 50/200\n",
            "44/44 [==============================] - 0s 5ms/step - loss: 0.0049 - val_loss: 0.0339\n",
            "Epoch 51/200\n",
            "44/44 [==============================] - 0s 5ms/step - loss: 0.0053 - val_loss: 0.0328\n",
            "Epoch 52/200\n",
            "44/44 [==============================] - 0s 5ms/step - loss: 0.0048 - val_loss: 0.0291\n",
            "Epoch 53/200\n",
            "44/44 [==============================] - 0s 5ms/step - loss: 0.0043 - val_loss: 0.0314\n",
            "Epoch 54/200\n",
            "44/44 [==============================] - 0s 5ms/step - loss: 0.0047 - val_loss: 0.0284\n",
            "Epoch 55/200\n",
            "44/44 [==============================] - 0s 5ms/step - loss: 0.0042 - val_loss: 0.0324\n",
            "Epoch 56/200\n",
            "44/44 [==============================] - 0s 5ms/step - loss: 0.0041 - val_loss: 0.0328\n",
            "Epoch 57/200\n",
            "44/44 [==============================] - 0s 5ms/step - loss: 0.0045 - val_loss: 0.0319\n",
            "Epoch 58/200\n",
            "44/44 [==============================] - 0s 5ms/step - loss: 0.0043 - val_loss: 0.0543\n",
            "Epoch 59/200\n",
            "44/44 [==============================] - 0s 5ms/step - loss: 0.0050 - val_loss: 0.0314\n",
            "Epoch 60/200\n",
            "44/44 [==============================] - 0s 5ms/step - loss: 0.0038 - val_loss: 0.0307\n",
            "Epoch 61/200\n",
            "44/44 [==============================] - 0s 5ms/step - loss: 0.0042 - val_loss: 0.0310\n",
            "Epoch 62/200\n",
            "44/44 [==============================] - 0s 5ms/step - loss: 0.0044 - val_loss: 0.0345\n",
            "Epoch 63/200\n",
            "44/44 [==============================] - 0s 5ms/step - loss: 0.0040 - val_loss: 0.0319\n",
            "Epoch 64/200\n",
            "44/44 [==============================] - 0s 5ms/step - loss: 0.0044 - val_loss: 0.0314\n",
            "Epoch 65/200\n",
            "44/44 [==============================] - 0s 5ms/step - loss: 0.0042 - val_loss: 0.0372\n",
            "Epoch 66/200\n",
            "44/44 [==============================] - 0s 5ms/step - loss: 0.0041 - val_loss: 0.0308\n",
            "Epoch 67/200\n",
            "44/44 [==============================] - 0s 5ms/step - loss: 0.0044 - val_loss: 0.0404\n",
            "Epoch 68/200\n",
            "44/44 [==============================] - 0s 5ms/step - loss: 0.0037 - val_loss: 0.0361\n",
            "Epoch 69/200\n",
            "44/44 [==============================] - 0s 5ms/step - loss: 0.0040 - val_loss: 0.0395\n",
            "Epoch 70/200\n",
            "44/44 [==============================] - 0s 5ms/step - loss: 0.0048 - val_loss: 0.0391\n",
            "Epoch 71/200\n",
            "44/44 [==============================] - 0s 5ms/step - loss: 0.0038 - val_loss: 0.0350\n",
            "Epoch 72/200\n",
            "44/44 [==============================] - 0s 5ms/step - loss: 0.0044 - val_loss: 0.0320\n",
            "Epoch 73/200\n",
            "44/44 [==============================] - 0s 5ms/step - loss: 0.0046 - val_loss: 0.0423\n",
            "Epoch 74/200\n",
            "44/44 [==============================] - 0s 5ms/step - loss: 0.0042 - val_loss: 0.0362\n",
            "Epoch 75/200\n",
            "44/44 [==============================] - 0s 5ms/step - loss: 0.0042 - val_loss: 0.0337\n",
            "Epoch 76/200\n",
            "44/44 [==============================] - 0s 5ms/step - loss: 0.0039 - val_loss: 0.0336\n",
            "Epoch 77/200\n",
            "44/44 [==============================] - 0s 5ms/step - loss: 0.0042 - val_loss: 0.0399\n",
            "Epoch 78/200\n",
            "44/44 [==============================] - 0s 5ms/step - loss: 0.0045 - val_loss: 0.0337\n",
            "Epoch 79/200\n",
            "44/44 [==============================] - 0s 5ms/step - loss: 0.0038 - val_loss: 0.0412\n",
            "Epoch 80/200\n",
            "44/44 [==============================] - 0s 5ms/step - loss: 0.0041 - val_loss: 0.0340\n",
            "Epoch 81/200\n",
            "44/44 [==============================] - 0s 5ms/step - loss: 0.0039 - val_loss: 0.0339\n",
            "Epoch 82/200\n",
            "44/44 [==============================] - 0s 5ms/step - loss: 0.0038 - val_loss: 0.0408\n",
            "Epoch 83/200\n",
            "44/44 [==============================] - 0s 5ms/step - loss: 0.0039 - val_loss: 0.0358\n",
            "Epoch 84/200\n",
            "44/44 [==============================] - 0s 5ms/step - loss: 0.0041 - val_loss: 0.0342\n",
            "Epoch 85/200\n",
            "44/44 [==============================] - 0s 5ms/step - loss: 0.0041 - val_loss: 0.0402\n",
            "Epoch 86/200\n",
            "44/44 [==============================] - 0s 5ms/step - loss: 0.0044 - val_loss: 0.0355\n",
            "Epoch 87/200\n",
            "44/44 [==============================] - 0s 5ms/step - loss: 0.0036 - val_loss: 0.0370\n",
            "Epoch 88/200\n",
            "44/44 [==============================] - 0s 5ms/step - loss: 0.0036 - val_loss: 0.0395\n",
            "Epoch 89/200\n",
            "44/44 [==============================] - 0s 5ms/step - loss: 0.0036 - val_loss: 0.0306\n",
            "Epoch 90/200\n",
            "44/44 [==============================] - 0s 5ms/step - loss: 0.0035 - val_loss: 0.0272\n",
            "Epoch 91/200\n",
            "44/44 [==============================] - 0s 5ms/step - loss: 0.0039 - val_loss: 0.0351\n",
            "Epoch 92/200\n",
            "44/44 [==============================] - 0s 5ms/step - loss: 0.0035 - val_loss: 0.0363\n",
            "Epoch 93/200\n",
            "44/44 [==============================] - 0s 5ms/step - loss: 0.0037 - val_loss: 0.0419\n",
            "Epoch 94/200\n",
            "44/44 [==============================] - 0s 5ms/step - loss: 0.0041 - val_loss: 0.0351\n",
            "Epoch 95/200\n",
            "44/44 [==============================] - 0s 5ms/step - loss: 0.0040 - val_loss: 0.0348\n",
            "Epoch 96/200\n",
            "44/44 [==============================] - 0s 5ms/step - loss: 0.0043 - val_loss: 0.0346\n",
            "Epoch 97/200\n",
            "44/44 [==============================] - 0s 5ms/step - loss: 0.0034 - val_loss: 0.0385\n",
            "Epoch 98/200\n",
            "44/44 [==============================] - 0s 5ms/step - loss: 0.0038 - val_loss: 0.0388\n",
            "Epoch 99/200\n",
            "44/44 [==============================] - 0s 5ms/step - loss: 0.0039 - val_loss: 0.0380\n",
            "Epoch 100/200\n",
            "44/44 [==============================] - 0s 5ms/step - loss: 0.0036 - val_loss: 0.0468\n",
            "Epoch 101/200\n",
            "44/44 [==============================] - 0s 5ms/step - loss: 0.0038 - val_loss: 0.0379\n",
            "Epoch 102/200\n",
            "44/44 [==============================] - 0s 5ms/step - loss: 0.0040 - val_loss: 0.0371\n",
            "Epoch 103/200\n",
            "44/44 [==============================] - 0s 5ms/step - loss: 0.0037 - val_loss: 0.0343\n",
            "Epoch 104/200\n",
            "44/44 [==============================] - 0s 5ms/step - loss: 0.0038 - val_loss: 0.0343\n",
            "Epoch 105/200\n",
            "44/44 [==============================] - 0s 5ms/step - loss: 0.0037 - val_loss: 0.0368\n",
            "Epoch 106/200\n",
            "44/44 [==============================] - 0s 5ms/step - loss: 0.0037 - val_loss: 0.0351\n",
            "Epoch 107/200\n",
            "44/44 [==============================] - 0s 5ms/step - loss: 0.0038 - val_loss: 0.0371\n",
            "Epoch 108/200\n",
            "44/44 [==============================] - 0s 5ms/step - loss: 0.0034 - val_loss: 0.0335\n",
            "Epoch 109/200\n",
            "44/44 [==============================] - 0s 5ms/step - loss: 0.0032 - val_loss: 0.0358\n",
            "Epoch 110/200\n",
            "44/44 [==============================] - 0s 5ms/step - loss: 0.0035 - val_loss: 0.0370\n",
            "Epoch 111/200\n",
            "44/44 [==============================] - 0s 5ms/step - loss: 0.0029 - val_loss: 0.0367\n",
            "Epoch 112/200\n",
            "44/44 [==============================] - 0s 5ms/step - loss: 0.0039 - val_loss: 0.0367\n",
            "Epoch 113/200\n",
            "44/44 [==============================] - 0s 5ms/step - loss: 0.0032 - val_loss: 0.0332\n",
            "Epoch 114/200\n",
            "44/44 [==============================] - 0s 5ms/step - loss: 0.0036 - val_loss: 0.0325\n",
            "Epoch 115/200\n",
            "44/44 [==============================] - 0s 6ms/step - loss: 0.0036 - val_loss: 0.0370\n",
            "Epoch 116/200\n",
            "44/44 [==============================] - 0s 5ms/step - loss: 0.0036 - val_loss: 0.0356\n",
            "Epoch 117/200\n",
            "44/44 [==============================] - 0s 5ms/step - loss: 0.0034 - val_loss: 0.0358\n",
            "Epoch 118/200\n",
            "44/44 [==============================] - 0s 5ms/step - loss: 0.0035 - val_loss: 0.0358\n",
            "Epoch 119/200\n",
            "44/44 [==============================] - 0s 5ms/step - loss: 0.0037 - val_loss: 0.0467\n",
            "Epoch 120/200\n",
            "44/44 [==============================] - 0s 5ms/step - loss: 0.0038 - val_loss: 0.0348\n",
            "Epoch 121/200\n",
            "44/44 [==============================] - 0s 5ms/step - loss: 0.0036 - val_loss: 0.0347\n",
            "Epoch 122/200\n",
            "44/44 [==============================] - 0s 5ms/step - loss: 0.0032 - val_loss: 0.0359\n",
            "Epoch 123/200\n",
            "44/44 [==============================] - 0s 6ms/step - loss: 0.0035 - val_loss: 0.0371\n",
            "Epoch 124/200\n",
            "44/44 [==============================] - 0s 5ms/step - loss: 0.0033 - val_loss: 0.0412\n",
            "Epoch 125/200\n",
            "44/44 [==============================] - 0s 5ms/step - loss: 0.0036 - val_loss: 0.0375\n",
            "Epoch 126/200\n",
            "44/44 [==============================] - 0s 5ms/step - loss: 0.0032 - val_loss: 0.0404\n",
            "Epoch 127/200\n",
            "44/44 [==============================] - 0s 5ms/step - loss: 0.0035 - val_loss: 0.0360\n",
            "Epoch 128/200\n",
            "44/44 [==============================] - 0s 5ms/step - loss: 0.0039 - val_loss: 0.0385\n",
            "Epoch 129/200\n",
            "44/44 [==============================] - 0s 5ms/step - loss: 0.0032 - val_loss: 0.0366\n",
            "Epoch 130/200\n",
            "44/44 [==============================] - 0s 5ms/step - loss: 0.0027 - val_loss: 0.0344\n",
            "Epoch 131/200\n",
            "44/44 [==============================] - 0s 5ms/step - loss: 0.0035 - val_loss: 0.0371\n",
            "Epoch 132/200\n",
            "44/44 [==============================] - 0s 5ms/step - loss: 0.0030 - val_loss: 0.0385\n",
            "Epoch 133/200\n",
            "44/44 [==============================] - 0s 5ms/step - loss: 0.0034 - val_loss: 0.0334\n",
            "Epoch 134/200\n",
            "44/44 [==============================] - 0s 5ms/step - loss: 0.0031 - val_loss: 0.0344\n",
            "Epoch 135/200\n",
            "44/44 [==============================] - 0s 6ms/step - loss: 0.0035 - val_loss: 0.0368\n",
            "Epoch 136/200\n",
            "44/44 [==============================] - 0s 5ms/step - loss: 0.0028 - val_loss: 0.0369\n",
            "Epoch 137/200\n",
            "44/44 [==============================] - 0s 5ms/step - loss: 0.0032 - val_loss: 0.0335\n",
            "Epoch 138/200\n",
            "44/44 [==============================] - 0s 5ms/step - loss: 0.0035 - val_loss: 0.0405\n",
            "Epoch 139/200\n",
            "44/44 [==============================] - 0s 5ms/step - loss: 0.0034 - val_loss: 0.0386\n",
            "Epoch 140/200\n",
            "44/44 [==============================] - 0s 5ms/step - loss: 0.0031 - val_loss: 0.0402\n",
            "Epoch 141/200\n",
            "44/44 [==============================] - 0s 5ms/step - loss: 0.0031 - val_loss: 0.0368\n",
            "Epoch 142/200\n",
            "44/44 [==============================] - 0s 5ms/step - loss: 0.0031 - val_loss: 0.0368\n",
            "Epoch 143/200\n",
            "44/44 [==============================] - 0s 5ms/step - loss: 0.0029 - val_loss: 0.0417\n",
            "Epoch 144/200\n",
            "44/44 [==============================] - 0s 5ms/step - loss: 0.0030 - val_loss: 0.0362\n",
            "Epoch 145/200\n",
            "44/44 [==============================] - 0s 6ms/step - loss: 0.0035 - val_loss: 0.0369\n",
            "Epoch 146/200\n",
            "44/44 [==============================] - 0s 6ms/step - loss: 0.0028 - val_loss: 0.0332\n",
            "Epoch 147/200\n",
            "44/44 [==============================] - 0s 5ms/step - loss: 0.0030 - val_loss: 0.0316\n",
            "Epoch 148/200\n",
            "44/44 [==============================] - 0s 5ms/step - loss: 0.0033 - val_loss: 0.0363\n",
            "Epoch 149/200\n",
            "44/44 [==============================] - 0s 5ms/step - loss: 0.0032 - val_loss: 0.0325\n",
            "Epoch 150/200\n",
            "44/44 [==============================] - 0s 5ms/step - loss: 0.0036 - val_loss: 0.0503\n",
            "Epoch 151/200\n",
            "44/44 [==============================] - 0s 5ms/step - loss: 0.0037 - val_loss: 0.0346\n",
            "Epoch 152/200\n",
            "44/44 [==============================] - 0s 5ms/step - loss: 0.0033 - val_loss: 0.0353\n",
            "Epoch 153/200\n",
            "44/44 [==============================] - 0s 5ms/step - loss: 0.0032 - val_loss: 0.0319\n",
            "Epoch 154/200\n",
            "44/44 [==============================] - 0s 5ms/step - loss: 0.0035 - val_loss: 0.0325\n",
            "Epoch 155/200\n",
            "44/44 [==============================] - 0s 5ms/step - loss: 0.0028 - val_loss: 0.0411\n",
            "Epoch 156/200\n",
            "44/44 [==============================] - 0s 5ms/step - loss: 0.0025 - val_loss: 0.0384\n",
            "Epoch 157/200\n",
            "44/44 [==============================] - 0s 5ms/step - loss: 0.0029 - val_loss: 0.0374\n",
            "Epoch 158/200\n",
            "44/44 [==============================] - 0s 5ms/step - loss: 0.0027 - val_loss: 0.0315\n",
            "Epoch 159/200\n",
            "44/44 [==============================] - 0s 5ms/step - loss: 0.0028 - val_loss: 0.0397\n",
            "Epoch 160/200\n",
            "44/44 [==============================] - 0s 5ms/step - loss: 0.0032 - val_loss: 0.0358\n",
            "Epoch 161/200\n",
            "44/44 [==============================] - 0s 5ms/step - loss: 0.0026 - val_loss: 0.0375\n",
            "Epoch 162/200\n",
            "44/44 [==============================] - 0s 6ms/step - loss: 0.0024 - val_loss: 0.0348\n",
            "Epoch 163/200\n",
            "44/44 [==============================] - 0s 5ms/step - loss: 0.0025 - val_loss: 0.0323\n",
            "Epoch 164/200\n",
            "44/44 [==============================] - 0s 5ms/step - loss: 0.0029 - val_loss: 0.0368\n",
            "Epoch 165/200\n",
            "44/44 [==============================] - 0s 5ms/step - loss: 0.0028 - val_loss: 0.0288\n",
            "Epoch 166/200\n",
            "44/44 [==============================] - 0s 5ms/step - loss: 0.0029 - val_loss: 0.0336\n",
            "Epoch 167/200\n",
            "44/44 [==============================] - 0s 5ms/step - loss: 0.0028 - val_loss: 0.0331\n",
            "Epoch 168/200\n",
            "44/44 [==============================] - 0s 6ms/step - loss: 0.0030 - val_loss: 0.0354\n",
            "Epoch 169/200\n",
            "44/44 [==============================] - 0s 5ms/step - loss: 0.0027 - val_loss: 0.0304\n",
            "Epoch 170/200\n",
            "44/44 [==============================] - 0s 5ms/step - loss: 0.0028 - val_loss: 0.0333\n",
            "Epoch 171/200\n",
            "44/44 [==============================] - 0s 6ms/step - loss: 0.0026 - val_loss: 0.0290\n",
            "Epoch 172/200\n",
            "44/44 [==============================] - 0s 5ms/step - loss: 0.0027 - val_loss: 0.0368\n",
            "Epoch 173/200\n",
            "44/44 [==============================] - 0s 5ms/step - loss: 0.0031 - val_loss: 0.0311\n",
            "Epoch 174/200\n",
            "44/44 [==============================] - 0s 5ms/step - loss: 0.0026 - val_loss: 0.0302\n",
            "Epoch 175/200\n",
            "44/44 [==============================] - 0s 6ms/step - loss: 0.0028 - val_loss: 0.0371\n",
            "Epoch 176/200\n",
            "44/44 [==============================] - 0s 5ms/step - loss: 0.0031 - val_loss: 0.0342\n",
            "Epoch 177/200\n",
            "44/44 [==============================] - 0s 6ms/step - loss: 0.0030 - val_loss: 0.0380\n",
            "Epoch 178/200\n",
            "44/44 [==============================] - 0s 6ms/step - loss: 0.0023 - val_loss: 0.0306\n",
            "Epoch 179/200\n",
            "44/44 [==============================] - 0s 6ms/step - loss: 0.0027 - val_loss: 0.0326\n",
            "Epoch 180/200\n",
            "44/44 [==============================] - 0s 5ms/step - loss: 0.0026 - val_loss: 0.0294\n",
            "Epoch 181/200\n",
            "44/44 [==============================] - 0s 5ms/step - loss: 0.0030 - val_loss: 0.0335\n",
            "Epoch 182/200\n",
            "44/44 [==============================] - 0s 5ms/step - loss: 0.0027 - val_loss: 0.0331\n",
            "Epoch 183/200\n",
            "44/44 [==============================] - 0s 5ms/step - loss: 0.0031 - val_loss: 0.0341\n",
            "Epoch 184/200\n",
            "44/44 [==============================] - 0s 5ms/step - loss: 0.0027 - val_loss: 0.0299\n",
            "Epoch 185/200\n",
            "44/44 [==============================] - 0s 5ms/step - loss: 0.0026 - val_loss: 0.0309\n",
            "Epoch 186/200\n",
            "44/44 [==============================] - 0s 5ms/step - loss: 0.0028 - val_loss: 0.0360\n",
            "Epoch 187/200\n",
            "44/44 [==============================] - 0s 5ms/step - loss: 0.0028 - val_loss: 0.0339\n",
            "Epoch 188/200\n",
            "44/44 [==============================] - 0s 5ms/step - loss: 0.0025 - val_loss: 0.0348\n",
            "Epoch 189/200\n",
            "44/44 [==============================] - 0s 5ms/step - loss: 0.0028 - val_loss: 0.0344\n",
            "Epoch 190/200\n",
            "44/44 [==============================] - 0s 5ms/step - loss: 0.0024 - val_loss: 0.0339\n",
            "Epoch 191/200\n",
            "44/44 [==============================] - 0s 5ms/step - loss: 0.0027 - val_loss: 0.0331\n",
            "Epoch 192/200\n",
            "44/44 [==============================] - 0s 5ms/step - loss: 0.0028 - val_loss: 0.0331\n",
            "Epoch 193/200\n",
            "44/44 [==============================] - 0s 5ms/step - loss: 0.0026 - val_loss: 0.0330\n",
            "Epoch 194/200\n",
            "44/44 [==============================] - 0s 5ms/step - loss: 0.0025 - val_loss: 0.0360\n",
            "Epoch 195/200\n",
            "44/44 [==============================] - 0s 5ms/step - loss: 0.0027 - val_loss: 0.0306\n",
            "Epoch 196/200\n",
            "44/44 [==============================] - 0s 5ms/step - loss: 0.0027 - val_loss: 0.0396\n",
            "Epoch 197/200\n",
            "44/44 [==============================] - 0s 5ms/step - loss: 0.0027 - val_loss: 0.0354\n",
            "Epoch 198/200\n",
            "44/44 [==============================] - 0s 5ms/step - loss: 0.0023 - val_loss: 0.0364\n",
            "Epoch 199/200\n",
            "44/44 [==============================] - 0s 5ms/step - loss: 0.0028 - val_loss: 0.0291\n",
            "Epoch 200/200\n",
            "44/44 [==============================] - 0s 5ms/step - loss: 0.0025 - val_loss: 0.0306\n"
          ],
          "name": "stdout"
        },
        {
          "output_type": "execute_result",
          "data": {
            "text/plain": [
              "<tensorflow.python.keras.callbacks.History at 0x7fc1a6122780>"
            ]
          },
          "metadata": {
            "tags": []
          },
          "execution_count": 50
        }
      ]
    },
    {
      "cell_type": "code",
      "metadata": {
        "id": "WUWt3rDLIzUz"
      },
      "source": [
        "# make predictions\n",
        "trainPredict = model.predict(trainX)\n",
        "testPredict = model.predict(testX)"
      ],
      "execution_count": 51,
      "outputs": []
    },
    {
      "cell_type": "code",
      "metadata": {
        "id": "-IzImLDaI045"
      },
      "source": [
        "# invert predictions\n",
        "trainPredict = scaler.inverse_transform(trainPredict)\n",
        "trainY = scaler.inverse_transform([trainY])\n",
        "testPredict = scaler.inverse_transform(testPredict)\n",
        "testY = scaler.inverse_transform([testY])"
      ],
      "execution_count": 52,
      "outputs": []
    },
    {
      "cell_type": "code",
      "metadata": {
        "id": "O3yuqhooI7Sr",
        "outputId": "c0467ae4-0365-4c82-c91e-c05a3abc1bfb",
        "colab": {
          "base_uri": "https://localhost:8080/",
          "height": 52
        }
      },
      "source": [
        "trainScore = math.sqrt(mean_squared_error(trainY[0], trainPredict[:,0]))\n",
        "print('Train Score: %.2f RMSE' % (trainScore))\n",
        "testScore = math.sqrt(mean_squared_error(testY[0], testPredict[:,0]))\n",
        "print('Test Score: %.2f RMSE' % (testScore))"
      ],
      "execution_count": 53,
      "outputs": [
        {
          "output_type": "stream",
          "text": [
            "Train Score: 531.06 RMSE\n",
            "Test Score: 2024.12 RMSE\n"
          ],
          "name": "stdout"
        }
      ]
    },
    {
      "cell_type": "code",
      "metadata": {
        "id": "8MG0B3WVJAi5",
        "outputId": "fb2033a7-e568-4f9b-c6fe-5a7fcd2f3bb4",
        "colab": {
          "base_uri": "https://localhost:8080/",
          "height": 267
        }
      },
      "source": [
        "# shift train predictions for plotting\n",
        "trainPredictPlot = numpy.empty_like(dataset)\n",
        "trainPredictPlot[:, :] = numpy.nan\n",
        "trainPredictPlot[look_back:len(trainPredict)+look_back, :] = trainPredict\n",
        "\n",
        "# shift test predictions for plotting\n",
        "testPredictPlot = numpy.empty_like(dataset)\n",
        "testPredictPlot[:, :] = numpy.nan\n",
        "testPredictPlot[len(trainPredict)+(look_back*2)+1:len(dataset)-1, :] = testPredict\n",
        "\n",
        "# plot baseline and predictions\n",
        "plt.plot(scaler.inverse_transform(dataset))\n",
        "plt.plot(trainPredictPlot)\n",
        "plt.plot(testPredictPlot)\n",
        "plt.show()"
      ],
      "execution_count": 54,
      "outputs": [
        {
          "output_type": "display_data",
          "data": {
            "image/png": "[encoded data removed]",
            "text/plain": [
              "<Figure size 432x288 with 1 Axes>"
            ]
          },
          "metadata": {
            "tags": [],
            "needs_background": "light"
          }
        }
      ]
    },
    {
      "cell_type": "code",
      "metadata": {
        "id": "cSKQyCw7W7yp",
        "outputId": "12d02c48-e847-427e-ef98-082106174269",
        "colab": {
          "base_uri": "https://localhost:8080/",
          "height": 52
        }
      },
      "source": [
        "import numpy as np\n",
        "def mape(y_true, y_pred):\n",
        "    return np.mean(np.abs((y_pred - y_true) / y_true))\n",
        "\n",
        "trainScore = mape(trainY[0], trainPredict[:,0])\n",
        "print('Train Score: %.2f MAPE' % (trainScore))\n",
        "testScore = mape(testY[0], testPredict[:,0])\n",
        "print('Test Score: %.2f MAPE' % (testScore))"
      ],
      "execution_count": 55,
      "outputs": [
        {
          "output_type": "stream",
          "text": [
            "Train Score: 0.07 MAPE\n",
            "Test Score: 0.25 MAPE\n"
          ],
          "name": "stdout"
        }
      ]
    },
    {
      "cell_type": "code",
      "metadata": {
        "id": "NEUoGyFbHdOd",
        "outputId": "f88241fc-5471-42ab-9f9f-4e8e1489ce2c",
        "colab": {
          "base_uri": "https://localhost:8080/",
          "height": 35
        }
      },
      "source": [
        "initial = np.append(trainY[0],testY[0])\n",
        "predict = np.append(trainPredict[:,0],testPredict[:,0])\n",
        "score = mape(initial,predict)\n",
        "score"
      ],
      "execution_count": 56,
      "outputs": [
        {
          "output_type": "execute_result",
          "data": {
            "text/plain": [
              "0.08411696377427891"
            ]
          },
          "metadata": {
            "tags": []
          },
          "execution_count": 56
        }
      ]
    }
  ]
}