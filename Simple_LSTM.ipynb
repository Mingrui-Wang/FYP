{
  "nbformat": 4,
  "nbformat_minor": 0,
  "metadata": {
    "colab": {
      "name": "Simple_LSTM.ipynb",
      "provenance": [],
      "authorship_tag": "ABX9TyPqIhzS12PWWQxbzPrTOhqY",
      "include_colab_link": true
    },
    "kernelspec": {
      "name": "python3",
      "display_name": "Python 3"
    }
  },
  "cells": [
    {
      "cell_type": "markdown",
      "metadata": {
        "id": "view-in-github",
        "colab_type": "text"
      },
      "source": [
        "<a href=\"https://colab.research.google.com/github/Mingrui-Wang/FYP/blob/master/Simple_LSTM.ipynb\" target=\"_parent\"><img src=\"https://colab.research.google.com/assets/colab-badge.svg\" alt=\"Open In Colab\"/></a>"
      ]
    },
    {
      "cell_type": "code",
      "metadata": {
        "id": "9sx8fa0FG5zz",
        "outputId": "d870fe84-e180-45ed-d44b-f268ed6e4e1c",
        "colab": {
          "base_uri": "https://localhost:8080/",
          "height": 52
        }
      },
      "source": [
        "import os\n",
        "from google.colab import drive\n",
        "drive.mount('/content/drive')\n",
        "\n",
        "path = \"/content/drive/My Drive/FYP数据集/\"\n",
        "os.chdir(path)\n",
        "os.listdir(path)"
      ],
      "execution_count": 8,
      "outputs": [
        {
          "output_type": "stream",
          "text": [
            "Drive already mounted at /content/drive; to attempt to forcibly remount, call drive.mount(\"/content/drive\", force_remount=True).\n"
          ],
          "name": "stdout"
        },
        {
          "output_type": "execute_result",
          "data": {
            "text/plain": [
              "['Line_100_day.csv']"
            ]
          },
          "metadata": {
            "tags": []
          },
          "execution_count": 8
        }
      ]
    },
    {
      "cell_type": "code",
      "metadata": {
        "id": "jqBr5ZNRGMGh"
      },
      "source": [
        "import numpy\n",
        "import matplotlib.pyplot as plt\n",
        "from pandas import read_csv\n",
        "import math\n",
        "from keras.models import Sequential\n",
        "from keras.layers import Dense\n",
        "from keras.layers import LSTM\n",
        "from sklearn.preprocessing import MinMaxScaler\n",
        "from sklearn.metrics import mean_squared_error\n",
        "%matplotlib inline"
      ],
      "execution_count": 5,
      "outputs": []
    },
    {
      "cell_type": "code",
      "metadata": {
        "id": "C35h7eekGZBQ",
        "outputId": "ce2be69f-3c0c-4276-c981-26e931a33f58",
        "colab": {
          "base_uri": "https://localhost:8080/",
          "height": 266
        }
      },
      "source": [
        "# load the dataset\n",
        "dataframe = read_csv('Line_100_day.csv', usecols=[1], engine='python', skipfooter=3)\n",
        "dataset = dataframe.values\n",
        "# 将整型变为float\n",
        "dataset = dataset.astype('float32')\n",
        "\n",
        "plt.plot(dataset)\n",
        "plt.show()"
      ],
      "execution_count": 9,
      "outputs": [
        {
          "output_type": "display_data",
          "data": {
            "image/png": "[encoded data removed]",
            "text/plain": [
              "<Figure size 432x288 with 1 Axes>"
            ]
          },
          "metadata": {
            "tags": [],
            "needs_background": "light"
          }
        }
      ]
    },
    {
      "cell_type": "code",
      "metadata": {
        "id": "kTX1nSSoHpIN"
      },
      "source": [
        "# X is the number of passengers at a given time (t) and Y is the number of passengers at the next time (t + 1).\n",
        "\n",
        "# convert an array of values into a dataset matrix\n",
        "def create_dataset(dataset, look_back=1):\n",
        "    dataX, dataY = [], []\n",
        "    for i in range(len(dataset)-look_back-1):\n",
        "        a = dataset[i:(i+look_back), 0]\n",
        "        dataX.append(a)\n",
        "        dataY.append(dataset[i + look_back, 0])\n",
        "    return numpy.array(dataX), numpy.array(dataY)\n",
        "\n",
        "# fix random seed for reproducibility\n",
        "numpy.random.seed(7)"
      ],
      "execution_count": 10,
      "outputs": []
    },
    {
      "cell_type": "code",
      "metadata": {
        "id": "KVIh4Yr-INhM"
      },
      "source": [
        "# normalize the dataset\n",
        "scaler = MinMaxScaler(feature_range=(0, 1))\n",
        "dataset = scaler.fit_transform(dataset)\n",
        "\n",
        "\n",
        "# split into train and test sets\n",
        "train_size = int(len(dataset) * 0.67)\n",
        "test_size = len(dataset) - train_size\n",
        "train, test = dataset[0:train_size,:], dataset[train_size:len(dataset),:]"
      ],
      "execution_count": 11,
      "outputs": []
    },
    {
      "cell_type": "code",
      "metadata": {
        "id": "c1lD2ZTFIc90"
      },
      "source": [
        "# use this function to prepare the train and test datasets for modeling\n",
        "look_back = 1\n",
        "trainX, trainY = create_dataset(train, look_back)\n",
        "testX, testY = create_dataset(test, look_back)"
      ],
      "execution_count": 12,
      "outputs": []
    },
    {
      "cell_type": "code",
      "metadata": {
        "id": "ZVEB7ABhIiig"
      },
      "source": [
        "# reshape input to be [samples, time steps, features]\n",
        "trainX = numpy.reshape(trainX, (trainX.shape[0], 1, trainX.shape[1]))\n",
        "testX = numpy.reshape(testX, (testX.shape[0], 1, testX.shape[1]))"
      ],
      "execution_count": 13,
      "outputs": []
    },
    {
      "cell_type": "code",
      "metadata": {
        "id": "u5mZfrDWInjH",
        "outputId": "87fabf5f-8984-443b-d407-c066b33f0a54",
        "colab": {
          "base_uri": "https://localhost:8080/",
          "height": 1000
        }
      },
      "source": [
        "# create and fit the LSTM network\n",
        "model = Sequential()\n",
        "model.add(LSTM(4, input_shape=(1, look_back)))\n",
        "model.add(Dense(1))\n",
        "model.compile(loss='mean_squared_error', optimizer='adam')\n",
        "model.fit(trainX, trainY, epochs=100, batch_size=1, verbose=2)"
      ],
      "execution_count": 14,
      "outputs": [
        {
          "output_type": "stream",
          "text": [
            "Epoch 1/100\n",
            "274/274 - 0s - loss: 0.0620\n",
            "Epoch 2/100\n",
            "274/274 - 0s - loss: 0.0086\n",
            "Epoch 3/100\n",
            "274/274 - 0s - loss: 0.0081\n",
            "Epoch 4/100\n",
            "274/274 - 0s - loss: 0.0077\n",
            "Epoch 5/100\n",
            "274/274 - 0s - loss: 0.0075\n",
            "Epoch 6/100\n",
            "274/274 - 0s - loss: 0.0072\n",
            "Epoch 7/100\n",
            "274/274 - 0s - loss: 0.0069\n",
            "Epoch 8/100\n",
            "274/274 - 0s - loss: 0.0066\n",
            "Epoch 9/100\n",
            "274/274 - 0s - loss: 0.0064\n",
            "Epoch 10/100\n",
            "274/274 - 0s - loss: 0.0062\n",
            "Epoch 11/100\n",
            "274/274 - 0s - loss: 0.0061\n",
            "Epoch 12/100\n",
            "274/274 - 0s - loss: 0.0058\n",
            "Epoch 13/100\n",
            "274/274 - 0s - loss: 0.0057\n",
            "Epoch 14/100\n",
            "274/274 - 0s - loss: 0.0056\n",
            "Epoch 15/100\n",
            "274/274 - 0s - loss: 0.0056\n",
            "Epoch 16/100\n",
            "274/274 - 0s - loss: 0.0056\n",
            "Epoch 17/100\n",
            "274/274 - 0s - loss: 0.0055\n",
            "Epoch 18/100\n",
            "274/274 - 0s - loss: 0.0055\n",
            "Epoch 19/100\n",
            "274/274 - 0s - loss: 0.0054\n",
            "Epoch 20/100\n",
            "274/274 - 0s - loss: 0.0054\n",
            "Epoch 21/100\n",
            "274/274 - 0s - loss: 0.0054\n",
            "Epoch 22/100\n",
            "274/274 - 0s - loss: 0.0054\n",
            "Epoch 23/100\n",
            "274/274 - 0s - loss: 0.0054\n",
            "Epoch 24/100\n",
            "274/274 - 0s - loss: 0.0053\n",
            "Epoch 25/100\n",
            "274/274 - 0s - loss: 0.0054\n",
            "Epoch 26/100\n",
            "274/274 - 0s - loss: 0.0053\n",
            "Epoch 27/100\n",
            "274/274 - 0s - loss: 0.0053\n",
            "Epoch 28/100\n",
            "274/274 - 0s - loss: 0.0053\n",
            "Epoch 29/100\n",
            "274/274 - 0s - loss: 0.0053\n",
            "Epoch 30/100\n",
            "274/274 - 0s - loss: 0.0053\n",
            "Epoch 31/100\n",
            "274/274 - 0s - loss: 0.0053\n",
            "Epoch 32/100\n",
            "274/274 - 0s - loss: 0.0054\n",
            "Epoch 33/100\n",
            "274/274 - 0s - loss: 0.0053\n",
            "Epoch 34/100\n",
            "274/274 - 0s - loss: 0.0053\n",
            "Epoch 35/100\n",
            "274/274 - 0s - loss: 0.0052\n",
            "Epoch 36/100\n",
            "274/274 - 0s - loss: 0.0053\n",
            "Epoch 37/100\n",
            "274/274 - 0s - loss: 0.0053\n",
            "Epoch 38/100\n",
            "274/274 - 0s - loss: 0.0053\n",
            "Epoch 39/100\n",
            "274/274 - 0s - loss: 0.0052\n",
            "Epoch 40/100\n",
            "274/274 - 0s - loss: 0.0053\n",
            "Epoch 41/100\n",
            "274/274 - 0s - loss: 0.0053\n",
            "Epoch 42/100\n",
            "274/274 - 0s - loss: 0.0053\n",
            "Epoch 43/100\n",
            "274/274 - 0s - loss: 0.0052\n",
            "Epoch 44/100\n",
            "274/274 - 0s - loss: 0.0053\n",
            "Epoch 45/100\n",
            "274/274 - 0s - loss: 0.0052\n",
            "Epoch 46/100\n",
            "274/274 - 0s - loss: 0.0052\n",
            "Epoch 47/100\n",
            "274/274 - 0s - loss: 0.0053\n",
            "Epoch 48/100\n",
            "274/274 - 0s - loss: 0.0053\n",
            "Epoch 49/100\n",
            "274/274 - 0s - loss: 0.0053\n",
            "Epoch 50/100\n",
            "274/274 - 0s - loss: 0.0053\n",
            "Epoch 51/100\n",
            "274/274 - 0s - loss: 0.0053\n",
            "Epoch 52/100\n",
            "274/274 - 0s - loss: 0.0053\n",
            "Epoch 53/100\n",
            "274/274 - 0s - loss: 0.0053\n",
            "Epoch 54/100\n",
            "274/274 - 0s - loss: 0.0053\n",
            "Epoch 55/100\n",
            "274/274 - 0s - loss: 0.0053\n",
            "Epoch 56/100\n",
            "274/274 - 0s - loss: 0.0053\n",
            "Epoch 57/100\n",
            "274/274 - 0s - loss: 0.0053\n",
            "Epoch 58/100\n",
            "274/274 - 0s - loss: 0.0052\n",
            "Epoch 59/100\n",
            "274/274 - 0s - loss: 0.0053\n",
            "Epoch 60/100\n",
            "274/274 - 0s - loss: 0.0053\n",
            "Epoch 61/100\n",
            "274/274 - 0s - loss: 0.0053\n",
            "Epoch 62/100\n",
            "274/274 - 0s - loss: 0.0053\n",
            "Epoch 63/100\n",
            "274/274 - 0s - loss: 0.0053\n",
            "Epoch 64/100\n",
            "274/274 - 0s - loss: 0.0053\n",
            "Epoch 65/100\n",
            "274/274 - 0s - loss: 0.0054\n",
            "Epoch 66/100\n",
            "274/274 - 0s - loss: 0.0053\n",
            "Epoch 67/100\n",
            "274/274 - 0s - loss: 0.0053\n",
            "Epoch 68/100\n",
            "274/274 - 0s - loss: 0.0053\n",
            "Epoch 69/100\n",
            "274/274 - 0s - loss: 0.0053\n",
            "Epoch 70/100\n",
            "274/274 - 0s - loss: 0.0053\n",
            "Epoch 71/100\n",
            "274/274 - 0s - loss: 0.0053\n",
            "Epoch 72/100\n",
            "274/274 - 0s - loss: 0.0054\n",
            "Epoch 73/100\n",
            "274/274 - 0s - loss: 0.0053\n",
            "Epoch 74/100\n",
            "274/274 - 0s - loss: 0.0053\n",
            "Epoch 75/100\n",
            "274/274 - 0s - loss: 0.0053\n",
            "Epoch 76/100\n",
            "274/274 - 0s - loss: 0.0053\n",
            "Epoch 77/100\n",
            "274/274 - 0s - loss: 0.0053\n",
            "Epoch 78/100\n",
            "274/274 - 0s - loss: 0.0050\n",
            "Epoch 79/100\n",
            "274/274 - 0s - loss: 0.0054\n",
            "Epoch 80/100\n",
            "274/274 - 0s - loss: 0.0053\n",
            "Epoch 81/100\n",
            "274/274 - 0s - loss: 0.0053\n",
            "Epoch 82/100\n",
            "274/274 - 0s - loss: 0.0053\n",
            "Epoch 83/100\n",
            "274/274 - 0s - loss: 0.0052\n",
            "Epoch 84/100\n",
            "274/274 - 0s - loss: 0.0053\n",
            "Epoch 85/100\n",
            "274/274 - 0s - loss: 0.0052\n",
            "Epoch 86/100\n",
            "274/274 - 0s - loss: 0.0053\n",
            "Epoch 87/100\n",
            "274/274 - 0s - loss: 0.0053\n",
            "Epoch 88/100\n",
            "274/274 - 0s - loss: 0.0050\n",
            "Epoch 89/100\n",
            "274/274 - 0s - loss: 0.0053\n",
            "Epoch 90/100\n",
            "274/274 - 0s - loss: 0.0053\n",
            "Epoch 91/100\n",
            "274/274 - 0s - loss: 0.0052\n",
            "Epoch 92/100\n",
            "274/274 - 0s - loss: 0.0053\n",
            "Epoch 93/100\n",
            "274/274 - 0s - loss: 0.0052\n",
            "Epoch 94/100\n",
            "274/274 - 0s - loss: 0.0053\n",
            "Epoch 95/100\n",
            "274/274 - 0s - loss: 0.0053\n",
            "Epoch 96/100\n",
            "274/274 - 0s - loss: 0.0053\n",
            "Epoch 97/100\n",
            "274/274 - 0s - loss: 0.0052\n",
            "Epoch 98/100\n",
            "274/274 - 0s - loss: 0.0053\n",
            "Epoch 99/100\n",
            "274/274 - 0s - loss: 0.0052\n",
            "Epoch 100/100\n",
            "274/274 - 0s - loss: 0.0052\n"
          ],
          "name": "stdout"
        },
        {
          "output_type": "execute_result",
          "data": {
            "text/plain": [
              "<tensorflow.python.keras.callbacks.History at 0x7f15dfaa9828>"
            ]
          },
          "metadata": {
            "tags": []
          },
          "execution_count": 14
        }
      ]
    },
    {
      "cell_type": "code",
      "metadata": {
        "id": "WUWt3rDLIzUz"
      },
      "source": [
        "# make predictions\n",
        "trainPredict = model.predict(trainX)\n",
        "testPredict = model.predict(testX)"
      ],
      "execution_count": 15,
      "outputs": []
    },
    {
      "cell_type": "code",
      "metadata": {
        "id": "-IzImLDaI045"
      },
      "source": [
        "# invert predictions\n",
        "trainPredict = scaler.inverse_transform(trainPredict)\n",
        "trainY = scaler.inverse_transform([trainY])\n",
        "testPredict = scaler.inverse_transform(testPredict)\n",
        "testY = scaler.inverse_transform([testY])"
      ],
      "execution_count": 16,
      "outputs": []
    },
    {
      "cell_type": "code",
      "metadata": {
        "id": "O3yuqhooI7Sr",
        "outputId": "ace158de-208a-4a84-87d6-4cbb396bbda2",
        "colab": {
          "base_uri": "https://localhost:8080/",
          "height": 52
        }
      },
      "source": [
        "trainScore = math.sqrt(mean_squared_error(trainY[0], trainPredict[:,0]))\n",
        "print('Train Score: %.2f RMSE' % (trainScore))\n",
        "testScore = math.sqrt(mean_squared_error(testY[0], testPredict[:,0]))\n",
        "print('Test Score: %.2f RMSE' % (testScore))"
      ],
      "execution_count": 17,
      "outputs": [
        {
          "output_type": "stream",
          "text": [
            "Train Score: 971.03 RMSE\n",
            "Test Score: 1613.03 RMSE\n"
          ],
          "name": "stdout"
        }
      ]
    },
    {
      "cell_type": "code",
      "metadata": {
        "id": "8MG0B3WVJAi5",
        "outputId": "2f2c4574-5be5-4975-f88b-db3dda7ea255",
        "colab": {
          "base_uri": "https://localhost:8080/",
          "height": 266
        }
      },
      "source": [
        "# shift train predictions for plotting\n",
        "trainPredictPlot = numpy.empty_like(dataset)\n",
        "trainPredictPlot[:, :] = numpy.nan\n",
        "trainPredictPlot[look_back:len(trainPredict)+look_back, :] = trainPredict\n",
        "\n",
        "# shift test predictions for plotting\n",
        "testPredictPlot = numpy.empty_like(dataset)\n",
        "testPredictPlot[:, :] = numpy.nan\n",
        "testPredictPlot[len(trainPredict)+(look_back*2)+1:len(dataset)-1, :] = testPredict\n",
        "\n",
        "# plot baseline and predictions\n",
        "plt.plot(scaler.inverse_transform(dataset))\n",
        "plt.plot(trainPredictPlot)\n",
        "plt.plot(testPredictPlot)\n",
        "plt.show()"
      ],
      "execution_count": 18,
      "outputs": [
        {
          "output_type": "display_data",
          "data": {
            "image/png": "[encoded data removed]",
            "text/plain": [
              "<Figure size 432x288 with 1 Axes>"
            ]
          },
          "metadata": {
            "tags": [],
            "needs_background": "light"
          }
        }
      ]
    }
  ]
}