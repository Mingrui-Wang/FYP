{
  "nbformat": 4,
  "nbformat_minor": 0,
  "metadata": {
    "colab": {
      "name": "Simple_LSTM_non_outlier.ipynb",
      "provenance": [],
      "authorship_tag": "ABX9TyNCyl7Zb80lpppA7Ejj6BK3",
      "include_colab_link": true
    },
    "kernelspec": {
      "name": "python3",
      "display_name": "Python 3"
    },
    "accelerator": "GPU"
  },
  "cells": [
    {
      "cell_type": "markdown",
      "metadata": {
        "id": "view-in-github",
        "colab_type": "text"
      },
      "source": [
        "<a href=\"https://colab.research.google.com/github/Mingrui-Wang/FYP/blob/master/Simple_LSTM_non_outlier.ipynb\" target=\"_parent\"><img src=\"https://colab.research.google.com/assets/colab-badge.svg\" alt=\"Open In Colab\"/></a>"
      ]
    },
    {
      "cell_type": "code",
      "metadata": {
        "id": "9sx8fa0FG5zz",
        "outputId": "1588d373-7d24-44f2-c174-ca606d030138",
        "colab": {
          "base_uri": "https://localhost:8080/",
          "height": 52
        }
      },
      "source": [
        "import os\n",
        "from google.colab import drive\n",
        "drive.mount('/content/drive')\n",
        "\n",
        "path = \"/content/drive/My Drive/FYP数据集/\"\n",
        "os.chdir(path)\n",
        "os.listdir(path)"
      ],
      "execution_count": 35,
      "outputs": [
        {
          "output_type": "stream",
          "text": [
            "Drive already mounted at /content/drive; to attempt to forcibly remount, call drive.mount(\"/content/drive\", force_remount=True).\n"
          ],
          "name": "stdout"
        },
        {
          "output_type": "execute_result",
          "data": {
            "text/plain": [
              "['Line_100_day.csv', 'Line_100_day_winsorize.csv']"
            ]
          },
          "metadata": {
            "tags": []
          },
          "execution_count": 35
        }
      ]
    },
    {
      "cell_type": "code",
      "metadata": {
        "id": "jqBr5ZNRGMGh"
      },
      "source": [
        "import numpy\n",
        "import matplotlib.pyplot as plt\n",
        "from pandas import read_csv\n",
        "import math\n",
        "from keras.models import Sequential\n",
        "from keras.layers import Dense\n",
        "from keras.layers import LSTM\n",
        "from sklearn.preprocessing import MinMaxScaler\n",
        "from sklearn.metrics import mean_squared_error\n",
        "%matplotlib inline"
      ],
      "execution_count": 36,
      "outputs": []
    },
    {
      "cell_type": "code",
      "metadata": {
        "id": "C35h7eekGZBQ",
        "outputId": "7c5f4076-8f7e-4d60-ca1b-7deecac3630b",
        "colab": {
          "base_uri": "https://localhost:8080/",
          "height": 267
        }
      },
      "source": [
        "# load the dataset\n",
        "dataframe = read_csv('Line_100_day_winsorize.csv', usecols=[1], engine='python', skipfooter=3)\n",
        "dataset = dataframe.values\n",
        "# 将整型变为float\n",
        "dataset = dataset.astype('float32')\n",
        "\n",
        "plt.plot(dataset)\n",
        "plt.show()"
      ],
      "execution_count": 37,
      "outputs": [
        {
          "output_type": "display_data",
          "data": {
            "image/png": "[encoded data removed]",
            "text/plain": [
              "<Figure size 432x288 with 1 Axes>"
            ]
          },
          "metadata": {
            "tags": [],
            "needs_background": "light"
          }
        }
      ]
    },
    {
      "cell_type": "code",
      "metadata": {
        "id": "kTX1nSSoHpIN"
      },
      "source": [
        "# X is the number of passengers at a given time (t) and Y is the number of passengers at the next time (t + 1).\n",
        "\n",
        "# convert an array of values into a dataset matrix\n",
        "def create_dataset(dataset, look_back=1):\n",
        "    dataX, dataY = [], []\n",
        "    for i in range(len(dataset)-look_back-1):\n",
        "        a = dataset[i:(i+look_back), 0]\n",
        "        dataX.append(a)\n",
        "        dataY.append(dataset[i + look_back, 0])\n",
        "    return numpy.array(dataX), numpy.array(dataY)\n",
        "\n",
        "# fix random seed for reproducibility\n",
        "numpy.random.seed(7)"
      ],
      "execution_count": 38,
      "outputs": []
    },
    {
      "cell_type": "code",
      "metadata": {
        "id": "KVIh4Yr-INhM"
      },
      "source": [
        "# normalize the dataset\n",
        "scaler = MinMaxScaler(feature_range=(0, 1))\n",
        "dataset = scaler.fit_transform(dataset)\n",
        "\n",
        "\n",
        "# split into train and test sets\n",
        "train_size = int(len(dataset) * 0.7)\n",
        "test_size = len(dataset) - train_size\n",
        "train, test = dataset[0:train_size,:], dataset[train_size:len(dataset),:]"
      ],
      "execution_count": 39,
      "outputs": []
    },
    {
      "cell_type": "code",
      "metadata": {
        "id": "c1lD2ZTFIc90"
      },
      "source": [
        "# use this function to prepare the train and test datasets for modeling\n",
        "look_back = 1\n",
        "trainX, trainY = create_dataset(train, look_back)\n",
        "testX, testY = create_dataset(test, look_back)"
      ],
      "execution_count": 40,
      "outputs": []
    },
    {
      "cell_type": "code",
      "metadata": {
        "id": "ZVEB7ABhIiig"
      },
      "source": [
        "# reshape input to be [samples, time steps, features]\n",
        "trainX = numpy.reshape(trainX, (trainX.shape[0], 1, trainX.shape[1]))\n",
        "testX = numpy.reshape(testX, (testX.shape[0], 1, testX.shape[1]))"
      ],
      "execution_count": 41,
      "outputs": []
    },
    {
      "cell_type": "code",
      "metadata": {
        "id": "u5mZfrDWInjH",
        "outputId": "c319fe5d-5963-4171-bd68-395462dd8297",
        "colab": {
          "base_uri": "https://localhost:8080/",
          "height": 1000
        }
      },
      "source": [
        "# create and fit the LSTM network\n",
        "model = Sequential()\n",
        "model.add(LSTM(4, input_shape=(1, look_back)))\n",
        "model.add(Dense(1))\n",
        "model.compile(loss='mean_squared_error', optimizer='adam')\n",
        "model.fit(trainX, trainY, epochs=50, batch_size=1, verbose=2)"
      ],
      "execution_count": 42,
      "outputs": [
        {
          "output_type": "stream",
          "text": [
            "Epoch 1/50\n",
            "279/279 - 1s - loss: 0.0550\n",
            "Epoch 2/50\n",
            "279/279 - 1s - loss: 0.0157\n",
            "Epoch 3/50\n",
            "279/279 - 1s - loss: 0.0144\n",
            "Epoch 4/50\n",
            "279/279 - 1s - loss: 0.0133\n",
            "Epoch 5/50\n",
            "279/279 - 1s - loss: 0.0123\n",
            "Epoch 6/50\n",
            "279/279 - 1s - loss: 0.0113\n",
            "Epoch 7/50\n",
            "279/279 - 1s - loss: 0.0105\n",
            "Epoch 8/50\n",
            "279/279 - 1s - loss: 0.0098\n",
            "Epoch 9/50\n",
            "279/279 - 1s - loss: 0.0090\n",
            "Epoch 10/50\n",
            "279/279 - 1s - loss: 0.0084\n",
            "Epoch 11/50\n",
            "279/279 - 1s - loss: 0.0081\n",
            "Epoch 12/50\n",
            "279/279 - 1s - loss: 0.0077\n",
            "Epoch 13/50\n",
            "279/279 - 1s - loss: 0.0075\n",
            "Epoch 14/50\n",
            "279/279 - 1s - loss: 0.0073\n",
            "Epoch 15/50\n",
            "279/279 - 1s - loss: 0.0073\n",
            "Epoch 16/50\n",
            "279/279 - 1s - loss: 0.0072\n",
            "Epoch 17/50\n",
            "279/279 - 1s - loss: 0.0071\n",
            "Epoch 18/50\n",
            "279/279 - 1s - loss: 0.0071\n",
            "Epoch 19/50\n",
            "279/279 - 1s - loss: 0.0071\n",
            "Epoch 20/50\n",
            "279/279 - 1s - loss: 0.0070\n",
            "Epoch 21/50\n",
            "279/279 - 1s - loss: 0.0071\n",
            "Epoch 22/50\n",
            "279/279 - 1s - loss: 0.0070\n",
            "Epoch 23/50\n",
            "279/279 - 1s - loss: 0.0071\n",
            "Epoch 24/50\n",
            "279/279 - 1s - loss: 0.0071\n",
            "Epoch 25/50\n",
            "279/279 - 1s - loss: 0.0070\n",
            "Epoch 26/50\n",
            "279/279 - 1s - loss: 0.0071\n",
            "Epoch 27/50\n",
            "279/279 - 1s - loss: 0.0070\n",
            "Epoch 28/50\n",
            "279/279 - 1s - loss: 0.0071\n",
            "Epoch 29/50\n",
            "279/279 - 1s - loss: 0.0072\n",
            "Epoch 30/50\n",
            "279/279 - 1s - loss: 0.0070\n",
            "Epoch 31/50\n",
            "279/279 - 1s - loss: 0.0069\n",
            "Epoch 32/50\n",
            "279/279 - 1s - loss: 0.0071\n",
            "Epoch 33/50\n",
            "279/279 - 1s - loss: 0.0070\n",
            "Epoch 34/50\n",
            "279/279 - 1s - loss: 0.0071\n",
            "Epoch 35/50\n",
            "279/279 - 1s - loss: 0.0071\n",
            "Epoch 36/50\n",
            "279/279 - 1s - loss: 0.0070\n",
            "Epoch 37/50\n",
            "279/279 - 1s - loss: 0.0070\n",
            "Epoch 38/50\n",
            "279/279 - 1s - loss: 0.0070\n",
            "Epoch 39/50\n",
            "279/279 - 1s - loss: 0.0070\n",
            "Epoch 40/50\n",
            "279/279 - 1s - loss: 0.0071\n",
            "Epoch 41/50\n",
            "279/279 - 1s - loss: 0.0070\n",
            "Epoch 42/50\n",
            "279/279 - 1s - loss: 0.0071\n",
            "Epoch 43/50\n",
            "279/279 - 1s - loss: 0.0070\n",
            "Epoch 44/50\n",
            "279/279 - 1s - loss: 0.0071\n",
            "Epoch 45/50\n",
            "279/279 - 1s - loss: 0.0070\n",
            "Epoch 46/50\n",
            "279/279 - 1s - loss: 0.0070\n",
            "Epoch 47/50\n",
            "279/279 - 1s - loss: 0.0071\n",
            "Epoch 48/50\n",
            "279/279 - 1s - loss: 0.0071\n",
            "Epoch 49/50\n",
            "279/279 - 1s - loss: 0.0070\n",
            "Epoch 50/50\n",
            "279/279 - 1s - loss: 0.0071\n"
          ],
          "name": "stdout"
        },
        {
          "output_type": "execute_result",
          "data": {
            "text/plain": [
              "<tensorflow.python.keras.callbacks.History at 0x7fd7e2bd3f28>"
            ]
          },
          "metadata": {
            "tags": []
          },
          "execution_count": 42
        }
      ]
    },
    {
      "cell_type": "code",
      "metadata": {
        "id": "WUWt3rDLIzUz"
      },
      "source": [
        "# make predictions\n",
        "trainPredict = model.predict(trainX)\n",
        "testPredict = model.predict(testX)"
      ],
      "execution_count": 43,
      "outputs": []
    },
    {
      "cell_type": "code",
      "metadata": {
        "id": "-IzImLDaI045"
      },
      "source": [
        "# invert predictions\n",
        "trainPredict = scaler.inverse_transform(trainPredict)\n",
        "trainY = scaler.inverse_transform([trainY])\n",
        "testPredict = scaler.inverse_transform(testPredict)\n",
        "testY = scaler.inverse_transform([testY])"
      ],
      "execution_count": 44,
      "outputs": []
    },
    {
      "cell_type": "code",
      "metadata": {
        "id": "O3yuqhooI7Sr",
        "outputId": "7abb4a3b-6eee-4550-ecd6-bac6dce1a24c",
        "colab": {
          "base_uri": "https://localhost:8080/",
          "height": 52
        }
      },
      "source": [
        "trainScore = math.sqrt(mean_squared_error(trainY[0], trainPredict[:,0]))\n",
        "print('Train Score: %.2f RMSE' % (trainScore))\n",
        "testScore = math.sqrt(mean_squared_error(testY[0], testPredict[:,0]))\n",
        "print('Test Score: %.2f RMSE' % (testScore))"
      ],
      "execution_count": 45,
      "outputs": [
        {
          "output_type": "stream",
          "text": [
            "Train Score: 961.87 RMSE\n",
            "Test Score: 1479.69 RMSE\n"
          ],
          "name": "stdout"
        }
      ]
    },
    {
      "cell_type": "code",
      "metadata": {
        "id": "8MG0B3WVJAi5",
        "outputId": "6e33b94f-51dd-476e-8e02-4f1c264e0d46",
        "colab": {
          "base_uri": "https://localhost:8080/",
          "height": 267
        }
      },
      "source": [
        "# shift train predictions for plotting\n",
        "trainPredictPlot = numpy.empty_like(dataset)\n",
        "trainPredictPlot[:, :] = numpy.nan\n",
        "trainPredictPlot[look_back:len(trainPredict)+look_back, :] = trainPredict\n",
        "\n",
        "# shift test predictions for plotting\n",
        "testPredictPlot = numpy.empty_like(dataset)\n",
        "testPredictPlot[:, :] = numpy.nan\n",
        "testPredictPlot[len(trainPredict)+(look_back*2)+1:len(dataset)-1, :] = testPredict\n",
        "\n",
        "# plot baseline and predictions\n",
        "plt.plot(scaler.inverse_transform(dataset))\n",
        "plt.plot(trainPredictPlot)\n",
        "plt.plot(testPredictPlot)\n",
        "plt.show()"
      ],
      "execution_count": 46,
      "outputs": [
        {
          "output_type": "display_data",
          "data": {
            "image/png": "[encoded data removed]",
            "text/plain": [
              "<Figure size 432x288 with 1 Axes>"
            ]
          },
          "metadata": {
            "tags": [],
            "needs_background": "light"
          }
        }
      ]
    }
  ]
}